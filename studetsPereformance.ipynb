{
 "cells": [
  {
   "cell_type": "code",
   "execution_count": 1,
   "id": "4eb938e3",
   "metadata": {},
   "outputs": [
    {
     "data": {
      "text/html": [
       "<div>\n",
       "<style scoped>\n",
       "    .dataframe tbody tr th:only-of-type {\n",
       "        vertical-align: middle;\n",
       "    }\n",
       "\n",
       "    .dataframe tbody tr th {\n",
       "        vertical-align: top;\n",
       "    }\n",
       "\n",
       "    .dataframe thead th {\n",
       "        text-align: right;\n",
       "    }\n",
       "</style>\n",
       "<table border=\"1\" class=\"dataframe\">\n",
       "  <thead>\n",
       "    <tr style=\"text-align: right;\">\n",
       "      <th></th>\n",
       "      <th>gender</th>\n",
       "      <th>race/ethnicity</th>\n",
       "      <th>parental level of education</th>\n",
       "      <th>lunch</th>\n",
       "      <th>test preparation course</th>\n",
       "      <th>math score</th>\n",
       "      <th>reading score</th>\n",
       "      <th>writing score</th>\n",
       "      <th>Rating</th>\n",
       "    </tr>\n",
       "  </thead>\n",
       "  <tbody>\n",
       "    <tr>\n",
       "      <th>0</th>\n",
       "      <td>female</td>\n",
       "      <td>group B</td>\n",
       "      <td>bachelor's degree</td>\n",
       "      <td>standard</td>\n",
       "      <td>none</td>\n",
       "      <td>72.0</td>\n",
       "      <td>72.0</td>\n",
       "      <td>50.0</td>\n",
       "      <td>Not good</td>\n",
       "    </tr>\n",
       "    <tr>\n",
       "      <th>1</th>\n",
       "      <td>female</td>\n",
       "      <td>group C</td>\n",
       "      <td>dsvcsdv</td>\n",
       "      <td>standard</td>\n",
       "      <td>completed</td>\n",
       "      <td>69.0</td>\n",
       "      <td>90.0</td>\n",
       "      <td>88.0</td>\n",
       "      <td>Very good</td>\n",
       "    </tr>\n",
       "    <tr>\n",
       "      <th>2</th>\n",
       "      <td>aaaa</td>\n",
       "      <td>group B</td>\n",
       "      <td>master's degree</td>\n",
       "      <td>standard</td>\n",
       "      <td>none</td>\n",
       "      <td>90.0</td>\n",
       "      <td>95.0</td>\n",
       "      <td>93.0</td>\n",
       "      <td>Excellent</td>\n",
       "    </tr>\n",
       "    <tr>\n",
       "      <th>3</th>\n",
       "      <td>male</td>\n",
       "      <td>group A</td>\n",
       "      <td>associate's degree</td>\n",
       "      <td>free/reduced</td>\n",
       "      <td>none</td>\n",
       "      <td>47.0</td>\n",
       "      <td>57.0</td>\n",
       "      <td>44.0</td>\n",
       "      <td>Acceptance</td>\n",
       "    </tr>\n",
       "    <tr>\n",
       "      <th>4</th>\n",
       "      <td>male</td>\n",
       "      <td>group C</td>\n",
       "      <td>some college</td>\n",
       "      <td>standard</td>\n",
       "      <td>none</td>\n",
       "      <td>76.0</td>\n",
       "      <td>78.0</td>\n",
       "      <td>75.0</td>\n",
       "      <td>Good</td>\n",
       "    </tr>\n",
       "  </tbody>\n",
       "</table>\n",
       "</div>"
      ],
      "text/plain": [
       "   gender race/ethnicity parental level of education         lunch  \\\n",
       "0  female        group B           bachelor's degree      standard   \n",
       "1  female        group C                     dsvcsdv      standard   \n",
       "2    aaaa        group B             master's degree      standard   \n",
       "3    male        group A          associate's degree  free/reduced   \n",
       "4    male        group C                some college      standard   \n",
       "\n",
       "  test preparation course  math score  reading score  writing score  \\\n",
       "0                    none        72.0           72.0           50.0   \n",
       "1               completed        69.0           90.0           88.0   \n",
       "2                    none        90.0           95.0           93.0   \n",
       "3                    none        47.0           57.0           44.0   \n",
       "4                    none        76.0           78.0           75.0   \n",
       "\n",
       "       Rating  \n",
       "0    Not good  \n",
       "1   Very good  \n",
       "2   Excellent  \n",
       "3  Acceptance  \n",
       "4        Good  "
      ]
     },
     "execution_count": 1,
     "metadata": {},
     "output_type": "execute_result"
    }
   ],
   "source": [
    "import pandas as pd\n",
    "import numpy as np\n",
    "import matplotlib.pyplot as plt\n",
    "\n",
    "#importing the dataset\n",
    "data = pd.read_csv(\"studetsPereformance.csv\")\n",
    "\n",
    "#Top 5 rows\n",
    "data.head()"
   ]
  },
  {
   "cell_type": "code",
   "execution_count": 2,
   "id": "1cf1e7a1",
   "metadata": {},
   "outputs": [
    {
     "data": {
      "text/plain": [
       "(1000, 9)"
      ]
     },
     "execution_count": 2,
     "metadata": {},
     "output_type": "execute_result"
    }
   ],
   "source": [
    "#data shape\n",
    "data.shape"
   ]
  },
  {
   "cell_type": "code",
   "execution_count": 3,
   "id": "b5695d02",
   "metadata": {},
   "outputs": [
    {
     "data": {
      "text/html": [
       "<div>\n",
       "<style scoped>\n",
       "    .dataframe tbody tr th:only-of-type {\n",
       "        vertical-align: middle;\n",
       "    }\n",
       "\n",
       "    .dataframe tbody tr th {\n",
       "        vertical-align: top;\n",
       "    }\n",
       "\n",
       "    .dataframe thead th {\n",
       "        text-align: right;\n",
       "    }\n",
       "</style>\n",
       "<table border=\"1\" class=\"dataframe\">\n",
       "  <thead>\n",
       "    <tr style=\"text-align: right;\">\n",
       "      <th></th>\n",
       "      <th>math score</th>\n",
       "      <th>reading score</th>\n",
       "      <th>writing score</th>\n",
       "    </tr>\n",
       "  </thead>\n",
       "  <tbody>\n",
       "    <tr>\n",
       "      <th>count</th>\n",
       "      <td>999.000000</td>\n",
       "      <td>999.000000</td>\n",
       "      <td>998.000000</td>\n",
       "    </tr>\n",
       "    <tr>\n",
       "      <th>mean</th>\n",
       "      <td>66.092092</td>\n",
       "      <td>69.152152</td>\n",
       "      <td>67.921844</td>\n",
       "    </tr>\n",
       "    <tr>\n",
       "      <th>std</th>\n",
       "      <td>15.170359</td>\n",
       "      <td>14.597776</td>\n",
       "      <td>15.263710</td>\n",
       "    </tr>\n",
       "    <tr>\n",
       "      <th>min</th>\n",
       "      <td>0.000000</td>\n",
       "      <td>17.000000</td>\n",
       "      <td>10.000000</td>\n",
       "    </tr>\n",
       "    <tr>\n",
       "      <th>25%</th>\n",
       "      <td>57.000000</td>\n",
       "      <td>59.000000</td>\n",
       "      <td>57.000000</td>\n",
       "    </tr>\n",
       "    <tr>\n",
       "      <th>50%</th>\n",
       "      <td>66.000000</td>\n",
       "      <td>70.000000</td>\n",
       "      <td>69.000000</td>\n",
       "    </tr>\n",
       "    <tr>\n",
       "      <th>75%</th>\n",
       "      <td>77.000000</td>\n",
       "      <td>79.000000</td>\n",
       "      <td>79.000000</td>\n",
       "    </tr>\n",
       "    <tr>\n",
       "      <th>max</th>\n",
       "      <td>100.000000</td>\n",
       "      <td>100.000000</td>\n",
       "      <td>100.000000</td>\n",
       "    </tr>\n",
       "  </tbody>\n",
       "</table>\n",
       "</div>"
      ],
      "text/plain": [
       "       math score  reading score  writing score\n",
       "count  999.000000     999.000000     998.000000\n",
       "mean    66.092092      69.152152      67.921844\n",
       "std     15.170359      14.597776      15.263710\n",
       "min      0.000000      17.000000      10.000000\n",
       "25%     57.000000      59.000000      57.000000\n",
       "50%     66.000000      70.000000      69.000000\n",
       "75%     77.000000      79.000000      79.000000\n",
       "max    100.000000     100.000000     100.000000"
      ]
     },
     "execution_count": 3,
     "metadata": {},
     "output_type": "execute_result"
    }
   ],
   "source": [
    "#data describe\n",
    "data.describe()"
   ]
  },
  {
   "cell_type": "code",
   "execution_count": 4,
   "id": "6c0b6037",
   "metadata": {},
   "outputs": [
    {
     "data": {
      "text/plain": [
       "gender                          3\n",
       "race/ethnicity                  1\n",
       "parental level of education    10\n",
       "lunch                           0\n",
       "test preparation course         6\n",
       "math score                      1\n",
       "reading score                   1\n",
       "writing score                   2\n",
       "Rating                          4\n",
       "dtype: int64"
      ]
     },
     "execution_count": 4,
     "metadata": {},
     "output_type": "execute_result"
    }
   ],
   "source": [
    "#Checking with null values\n",
    "data.isnull().sum()"
   ]
  },
  {
   "cell_type": "code",
   "execution_count": 5,
   "id": "e1c70bc9",
   "metadata": {},
   "outputs": [
    {
     "data": {
      "text/plain": [
       "gender                         0\n",
       "race/ethnicity                 0\n",
       "parental level of education    0\n",
       "lunch                          0\n",
       "test preparation course        0\n",
       "math score                     0\n",
       "reading score                  0\n",
       "writing score                  0\n",
       "Rating                         0\n",
       "dtype: int64"
      ]
     },
     "execution_count": 5,
     "metadata": {},
     "output_type": "execute_result"
    }
   ],
   "source": [
    "#fill null values(I wrote two methods for solving the problem that Two adjacent values are null)\n",
    "data.fillna(method ='ffill' ,inplace=True)\n",
    "data.fillna(method ='bfill' ,inplace=True)\n",
    "\n",
    "#Checking null values again\n",
    "data.isnull().sum()"
   ]
  },
  {
   "cell_type": "code",
   "execution_count": 6,
   "id": "38b1ccd2",
   "metadata": {},
   "outputs": [
    {
     "data": {
      "text/html": [
       "<div>\n",
       "<style scoped>\n",
       "    .dataframe tbody tr th:only-of-type {\n",
       "        vertical-align: middle;\n",
       "    }\n",
       "\n",
       "    .dataframe tbody tr th {\n",
       "        vertical-align: top;\n",
       "    }\n",
       "\n",
       "    .dataframe thead th {\n",
       "        text-align: right;\n",
       "    }\n",
       "</style>\n",
       "<table border=\"1\" class=\"dataframe\">\n",
       "  <thead>\n",
       "    <tr style=\"text-align: right;\">\n",
       "      <th></th>\n",
       "      <th>gender</th>\n",
       "      <th>parental level of education</th>\n",
       "      <th>test preparation course</th>\n",
       "      <th>math score</th>\n",
       "      <th>reading score</th>\n",
       "      <th>writing score</th>\n",
       "      <th>Rating</th>\n",
       "    </tr>\n",
       "  </thead>\n",
       "  <tbody>\n",
       "    <tr>\n",
       "      <th>0</th>\n",
       "      <td>female</td>\n",
       "      <td>bachelor's degree</td>\n",
       "      <td>none</td>\n",
       "      <td>72.0</td>\n",
       "      <td>72.0</td>\n",
       "      <td>50.0</td>\n",
       "      <td>Not good</td>\n",
       "    </tr>\n",
       "    <tr>\n",
       "      <th>1</th>\n",
       "      <td>female</td>\n",
       "      <td>dsvcsdv</td>\n",
       "      <td>completed</td>\n",
       "      <td>69.0</td>\n",
       "      <td>90.0</td>\n",
       "      <td>88.0</td>\n",
       "      <td>Very good</td>\n",
       "    </tr>\n",
       "    <tr>\n",
       "      <th>2</th>\n",
       "      <td>aaaa</td>\n",
       "      <td>master's degree</td>\n",
       "      <td>none</td>\n",
       "      <td>90.0</td>\n",
       "      <td>95.0</td>\n",
       "      <td>93.0</td>\n",
       "      <td>Excellent</td>\n",
       "    </tr>\n",
       "    <tr>\n",
       "      <th>3</th>\n",
       "      <td>male</td>\n",
       "      <td>associate's degree</td>\n",
       "      <td>none</td>\n",
       "      <td>47.0</td>\n",
       "      <td>57.0</td>\n",
       "      <td>44.0</td>\n",
       "      <td>Acceptance</td>\n",
       "    </tr>\n",
       "    <tr>\n",
       "      <th>4</th>\n",
       "      <td>male</td>\n",
       "      <td>some college</td>\n",
       "      <td>none</td>\n",
       "      <td>76.0</td>\n",
       "      <td>78.0</td>\n",
       "      <td>75.0</td>\n",
       "      <td>Good</td>\n",
       "    </tr>\n",
       "    <tr>\n",
       "      <th>...</th>\n",
       "      <td>...</td>\n",
       "      <td>...</td>\n",
       "      <td>...</td>\n",
       "      <td>...</td>\n",
       "      <td>...</td>\n",
       "      <td>...</td>\n",
       "      <td>...</td>\n",
       "    </tr>\n",
       "    <tr>\n",
       "      <th>995</th>\n",
       "      <td>female</td>\n",
       "      <td>master's degree</td>\n",
       "      <td>completed</td>\n",
       "      <td>88.0</td>\n",
       "      <td>99.0</td>\n",
       "      <td>95.0</td>\n",
       "      <td>Excellent</td>\n",
       "    </tr>\n",
       "    <tr>\n",
       "      <th>996</th>\n",
       "      <td>male</td>\n",
       "      <td>high school</td>\n",
       "      <td>none</td>\n",
       "      <td>62.0</td>\n",
       "      <td>55.0</td>\n",
       "      <td>55.0</td>\n",
       "      <td>Acceptance</td>\n",
       "    </tr>\n",
       "    <tr>\n",
       "      <th>997</th>\n",
       "      <td>female</td>\n",
       "      <td>high school</td>\n",
       "      <td>completed</td>\n",
       "      <td>59.0</td>\n",
       "      <td>71.0</td>\n",
       "      <td>65.0</td>\n",
       "      <td>Not good</td>\n",
       "    </tr>\n",
       "    <tr>\n",
       "      <th>998</th>\n",
       "      <td>female</td>\n",
       "      <td>some college</td>\n",
       "      <td>completed</td>\n",
       "      <td>68.0</td>\n",
       "      <td>78.0</td>\n",
       "      <td>77.0</td>\n",
       "      <td>Good</td>\n",
       "    </tr>\n",
       "    <tr>\n",
       "      <th>999</th>\n",
       "      <td>female</td>\n",
       "      <td>some college</td>\n",
       "      <td>none</td>\n",
       "      <td>77.0</td>\n",
       "      <td>78.0</td>\n",
       "      <td>86.0</td>\n",
       "      <td>Good</td>\n",
       "    </tr>\n",
       "  </tbody>\n",
       "</table>\n",
       "<p>1000 rows × 7 columns</p>\n",
       "</div>"
      ],
      "text/plain": [
       "     gender parental level of education test preparation course  math score  \\\n",
       "0    female           bachelor's degree                    none        72.0   \n",
       "1    female                     dsvcsdv               completed        69.0   \n",
       "2      aaaa             master's degree                    none        90.0   \n",
       "3      male          associate's degree                    none        47.0   \n",
       "4      male                some college                    none        76.0   \n",
       "..      ...                         ...                     ...         ...   \n",
       "995  female             master's degree               completed        88.0   \n",
       "996    male                 high school                    none        62.0   \n",
       "997  female                 high school               completed        59.0   \n",
       "998  female                some college               completed        68.0   \n",
       "999  female                some college                    none        77.0   \n",
       "\n",
       "     reading score  writing score      Rating  \n",
       "0             72.0           50.0    Not good  \n",
       "1             90.0           88.0   Very good  \n",
       "2             95.0           93.0   Excellent  \n",
       "3             57.0           44.0  Acceptance  \n",
       "4             78.0           75.0        Good  \n",
       "..             ...            ...         ...  \n",
       "995           99.0           95.0   Excellent  \n",
       "996           55.0           55.0  Acceptance  \n",
       "997           71.0           65.0    Not good  \n",
       "998           78.0           77.0        Good  \n",
       "999           78.0           86.0        Good  \n",
       "\n",
       "[1000 rows x 7 columns]"
      ]
     },
     "execution_count": 6,
     "metadata": {},
     "output_type": "execute_result"
    }
   ],
   "source": [
    "#remove duplicate rows\n",
    "data.drop_duplicates(inplace=True)\n",
    "\n",
    "#Remove irrelevant attributes.\n",
    "#we will drop race/ethnicity and lunch  attribute becouse it does not affect our study\n",
    "data = data.drop(['race/ethnicity'] , axis=1) \n",
    "data = data.drop(['lunch'] , axis=1)\n",
    "data"
   ]
  },
  {
   "cell_type": "code",
   "execution_count": 7,
   "id": "a9c84123",
   "metadata": {},
   "outputs": [
    {
     "data": {
      "text/html": [
       "<div>\n",
       "<style scoped>\n",
       "    .dataframe tbody tr th:only-of-type {\n",
       "        vertical-align: middle;\n",
       "    }\n",
       "\n",
       "    .dataframe tbody tr th {\n",
       "        vertical-align: top;\n",
       "    }\n",
       "\n",
       "    .dataframe thead th {\n",
       "        text-align: right;\n",
       "    }\n",
       "</style>\n",
       "<table border=\"1\" class=\"dataframe\">\n",
       "  <thead>\n",
       "    <tr style=\"text-align: right;\">\n",
       "      <th></th>\n",
       "      <th>math score</th>\n",
       "      <th>reading score</th>\n",
       "      <th>writing score</th>\n",
       "    </tr>\n",
       "  </thead>\n",
       "  <tbody>\n",
       "    <tr>\n",
       "      <th>math score</th>\n",
       "      <td>1.000000</td>\n",
       "      <td>0.817716</td>\n",
       "      <td>0.793447</td>\n",
       "    </tr>\n",
       "    <tr>\n",
       "      <th>reading score</th>\n",
       "      <td>0.817716</td>\n",
       "      <td>1.000000</td>\n",
       "      <td>0.946790</td>\n",
       "    </tr>\n",
       "    <tr>\n",
       "      <th>writing score</th>\n",
       "      <td>0.793447</td>\n",
       "      <td>0.946790</td>\n",
       "      <td>1.000000</td>\n",
       "    </tr>\n",
       "  </tbody>\n",
       "</table>\n",
       "</div>"
      ],
      "text/plain": [
       "               math score  reading score  writing score\n",
       "math score       1.000000       0.817716       0.793447\n",
       "reading score    0.817716       1.000000       0.946790\n",
       "writing score    0.793447       0.946790       1.000000"
      ]
     },
     "execution_count": 7,
     "metadata": {},
     "output_type": "execute_result"
    }
   ],
   "source": [
    "#find Correlation\n",
    "data.corr()"
   ]
  },
  {
   "cell_type": "code",
   "execution_count": 8,
   "id": "72d6c125",
   "metadata": {},
   "outputs": [
    {
     "data": {
      "text/html": [
       "<div>\n",
       "<style scoped>\n",
       "    .dataframe tbody tr th:only-of-type {\n",
       "        vertical-align: middle;\n",
       "    }\n",
       "\n",
       "    .dataframe tbody tr th {\n",
       "        vertical-align: top;\n",
       "    }\n",
       "\n",
       "    .dataframe thead th {\n",
       "        text-align: right;\n",
       "    }\n",
       "</style>\n",
       "<table border=\"1\" class=\"dataframe\">\n",
       "  <thead>\n",
       "    <tr style=\"text-align: right;\">\n",
       "      <th></th>\n",
       "      <th>math score</th>\n",
       "      <th>writing score</th>\n",
       "    </tr>\n",
       "  </thead>\n",
       "  <tbody>\n",
       "    <tr>\n",
       "      <th>math score</th>\n",
       "      <td>1.000000</td>\n",
       "      <td>0.793447</td>\n",
       "    </tr>\n",
       "    <tr>\n",
       "      <th>writing score</th>\n",
       "      <td>0.793447</td>\n",
       "      <td>1.000000</td>\n",
       "    </tr>\n",
       "  </tbody>\n",
       "</table>\n",
       "</div>"
      ],
      "text/plain": [
       "               math score  writing score\n",
       "math score       1.000000       0.793447\n",
       "writing score    0.793447       1.000000"
      ]
     },
     "execution_count": 8,
     "metadata": {},
     "output_type": "execute_result"
    }
   ],
   "source": [
    "#Remove correlated attributes\n",
    "data = data.drop(['reading score'] , axis=1) #because it has correlation value greater than 0.8\n",
    "\n",
    "#ensure correlation\n",
    "data.corr()"
   ]
  },
  {
   "cell_type": "code",
   "execution_count": 9,
   "id": "f40b9621",
   "metadata": {},
   "outputs": [
    {
     "data": {
      "text/plain": [
       "gender                          3\n",
       "parental level of education     7\n",
       "test preparation course         4\n",
       "math score                     81\n",
       "writing score                  77\n",
       "Rating                          6\n",
       "dtype: int64"
      ]
     },
     "execution_count": 9,
     "metadata": {},
     "output_type": "execute_result"
    }
   ],
   "source": [
    "data.nunique()"
   ]
  },
  {
   "cell_type": "code",
   "execution_count": 10,
   "id": "91958eca",
   "metadata": {},
   "outputs": [
    {
     "data": {
      "text/plain": [
       "True     999\n",
       "False      1\n",
       "Name: gender, dtype: int64"
      ]
     },
     "execution_count": 10,
     "metadata": {},
     "output_type": "execute_result"
    }
   ],
   "source": [
    "####  Start remove noise  ####\n",
    "\n",
    "#remove noise from gender\n",
    "#check if there is a noise\n",
    "values = ['female','male']\n",
    "filter = data['gender'].isin(values)\n",
    "filter.value_counts()"
   ]
  },
  {
   "cell_type": "code",
   "execution_count": 11,
   "id": "07ee0c02",
   "metadata": {},
   "outputs": [
    {
     "data": {
      "text/plain": [
       "True    999\n",
       "Name: gender, dtype: int64"
      ]
     },
     "execution_count": 11,
     "metadata": {},
     "output_type": "execute_result"
    }
   ],
   "source": [
    "#remove noise\n",
    "data = data.drop(index= data[~filter].index)\n",
    "\n",
    "#ensure that noise is removed\n",
    "filter = data['gender'].isin(values)\n",
    "filter.value_counts()"
   ]
  },
  {
   "cell_type": "code",
   "execution_count": 12,
   "id": "4e32f15d",
   "metadata": {},
   "outputs": [
    {
     "data": {
      "text/plain": [
       "True     998\n",
       "False      1\n",
       "Name: parental level of education, dtype: int64"
      ]
     },
     "execution_count": 12,
     "metadata": {},
     "output_type": "execute_result"
    }
   ],
   "source": [
    "#remove noise from parental level of education\n",
    "#check if there is a noise\n",
    "values = ['bachelor\\'s degree','some college','associate\\'s degree','master\\'s degree','high school','some high school']\n",
    "filter = data['parental level of education'].isin(values)\n",
    "filter.value_counts()"
   ]
  },
  {
   "cell_type": "code",
   "execution_count": 13,
   "id": "98cb9eb0",
   "metadata": {},
   "outputs": [
    {
     "data": {
      "text/plain": [
       "True    998\n",
       "Name: parental level of education, dtype: int64"
      ]
     },
     "execution_count": 13,
     "metadata": {},
     "output_type": "execute_result"
    }
   ],
   "source": [
    "#remove noise\n",
    "data = data.drop(index= data[~filter].index)\n",
    "\n",
    "#check if there is a noise\n",
    "filter = data['parental level of education'].isin(values)\n",
    "filter.value_counts()"
   ]
  },
  {
   "cell_type": "code",
   "execution_count": 14,
   "id": "94d33799",
   "metadata": {},
   "outputs": [
    {
     "data": {
      "text/plain": [
       "True     996\n",
       "False      2\n",
       "Name: test preparation course, dtype: int64"
      ]
     },
     "execution_count": 14,
     "metadata": {},
     "output_type": "execute_result"
    }
   ],
   "source": [
    "#remove noise from test preparation course\n",
    "#check if there is a noise\n",
    "values = ['none','completed']\n",
    "filter = data['test preparation course'].isin(values)\n",
    "filter.value_counts()"
   ]
  },
  {
   "cell_type": "code",
   "execution_count": 15,
   "id": "d6311212",
   "metadata": {},
   "outputs": [
    {
     "data": {
      "text/plain": [
       "True    998\n",
       "Name: test preparation course, dtype: int64"
      ]
     },
     "execution_count": 15,
     "metadata": {},
     "output_type": "execute_result"
    }
   ],
   "source": [
    "#remove noise by set noise value equal none\n",
    "data.loc[(~filter), 'test preparation course' ] = 'none'\n",
    "\n",
    "#check if there is a noise\n",
    "filter = data['test preparation course'].isin(values)\n",
    "filter.value_counts()"
   ]
  },
  {
   "cell_type": "code",
   "execution_count": 16,
   "id": "2caebd6d",
   "metadata": {
    "scrolled": false
   },
   "outputs": [
    {
     "data": {
      "image/png": "[encoded data removed]",
      "text/plain": [
       "<Figure size 1440x720 with 1 Axes>"
      ]
     },
     "metadata": {
      "needs_background": "light"
     },
     "output_type": "display_data"
    }
   ],
   "source": [
    "#remove noise from math score and writing score\n",
    "#check if there is a noise\n",
    "atts = [\"math score\", \"writing score\"]\n",
    "plt.figure(figsize=(20,10))\n",
    "data[atts].boxplot()\n",
    "plt.title(\"atts show\")\n",
    "plt.show()"
   ]
  },
  {
   "cell_type": "code",
   "execution_count": 17,
   "id": "09074d15",
   "metadata": {},
   "outputs": [
    {
     "data": {
      "text/plain": [
       "False    984\n",
       "True      14\n",
       "Name: math score, dtype: int64"
      ]
     },
     "execution_count": 17,
     "metadata": {},
     "output_type": "execute_result"
    }
   ],
   "source": [
    "#outlier values is under 30, so we'll set it with a value of 30 \n",
    "filter1 = data['math score'] < 30\n",
    "filter1.value_counts()"
   ]
  },
  {
   "cell_type": "code",
   "execution_count": 18,
   "id": "84943b62",
   "metadata": {},
   "outputs": [
    {
     "data": {
      "text/plain": [
       "False    989\n",
       "True       9\n",
       "Name: writing score, dtype: int64"
      ]
     },
     "execution_count": 18,
     "metadata": {},
     "output_type": "execute_result"
    }
   ],
   "source": [
    "filter2 = data['writing score']<30\n",
    "filter2.value_counts()"
   ]
  },
  {
   "cell_type": "code",
   "execution_count": 19,
   "id": "c8a86293",
   "metadata": {},
   "outputs": [
    {
     "data": {
      "image/png": "[encoded data removed]",
      "text/plain": [
       "<Figure size 1440x720 with 1 Axes>"
      ]
     },
     "metadata": {
      "needs_background": "light"
     },
     "output_type": "display_data"
    }
   ],
   "source": [
    "data.loc[(filter1), 'math score'] = 30\n",
    "data.loc[(filter2), 'writing score'] = 30\n",
    "\n",
    "#check that we get rid of the noise\n",
    "atts = [\"math score\", \"writing score\"]\n",
    "plt.figure(figsize=(20,10))\n",
    "data[atts].boxplot()\n",
    "plt.title(\"atts show\")\n",
    "plt.show()"
   ]
  },
  {
   "cell_type": "code",
   "execution_count": 20,
   "id": "11b446dc",
   "metadata": {},
   "outputs": [
    {
     "data": {
      "text/plain": [
       "<AxesSubplot:>"
      ]
     },
     "execution_count": 20,
     "metadata": {},
     "output_type": "execute_result"
    },
    {
     "data": {
      "image/png": "[encoded data removed]",
      "text/plain": [
       "<Figure size 432x288 with 1 Axes>"
      ]
     },
     "metadata": {
      "needs_background": "light"
     },
     "output_type": "display_data"
    }
   ],
   "source": [
    "#show math score diagram\n",
    "data['math score'].hist()"
   ]
  },
  {
   "cell_type": "code",
   "execution_count": 21,
   "id": "51edcb31",
   "metadata": {},
   "outputs": [
    {
     "data": {
      "text/plain": [
       "<AxesSubplot:>"
      ]
     },
     "execution_count": 21,
     "metadata": {},
     "output_type": "execute_result"
    },
    {
     "data": {
      "image/png": "[encoded data removed]",
      "text/plain": [
       "<Figure size 432x288 with 1 Axes>"
      ]
     },
     "metadata": {
      "needs_background": "light"
     },
     "output_type": "display_data"
    }
   ],
   "source": [
    "#show writing score diagram\n",
    "data['writing score'].hist()"
   ]
  },
  {
   "cell_type": "code",
   "execution_count": 22,
   "id": "60892f70",
   "metadata": {},
   "outputs": [
    {
     "data": {
      "text/html": [
       "<div>\n",
       "<style scoped>\n",
       "    .dataframe tbody tr th:only-of-type {\n",
       "        vertical-align: middle;\n",
       "    }\n",
       "\n",
       "    .dataframe tbody tr th {\n",
       "        vertical-align: top;\n",
       "    }\n",
       "\n",
       "    .dataframe thead th {\n",
       "        text-align: right;\n",
       "    }\n",
       "</style>\n",
       "<table border=\"1\" class=\"dataframe\">\n",
       "  <thead>\n",
       "    <tr style=\"text-align: right;\">\n",
       "      <th></th>\n",
       "      <th>gender</th>\n",
       "      <th>parental level of education</th>\n",
       "      <th>test preparation course</th>\n",
       "      <th>math score</th>\n",
       "      <th>writing score</th>\n",
       "      <th>Rating</th>\n",
       "    </tr>\n",
       "  </thead>\n",
       "  <tbody>\n",
       "    <tr>\n",
       "      <th>0</th>\n",
       "      <td>female</td>\n",
       "      <td>bachelor's degree</td>\n",
       "      <td>none</td>\n",
       "      <td>72.0</td>\n",
       "      <td>55</td>\n",
       "      <td>Not good</td>\n",
       "    </tr>\n",
       "    <tr>\n",
       "      <th>3</th>\n",
       "      <td>male</td>\n",
       "      <td>associate's degree</td>\n",
       "      <td>none</td>\n",
       "      <td>47.0</td>\n",
       "      <td>45</td>\n",
       "      <td>Acceptance</td>\n",
       "    </tr>\n",
       "    <tr>\n",
       "      <th>4</th>\n",
       "      <td>male</td>\n",
       "      <td>some college</td>\n",
       "      <td>none</td>\n",
       "      <td>76.0</td>\n",
       "      <td>75</td>\n",
       "      <td>Good</td>\n",
       "    </tr>\n",
       "    <tr>\n",
       "      <th>5</th>\n",
       "      <td>female</td>\n",
       "      <td>associate's degree</td>\n",
       "      <td>none</td>\n",
       "      <td>71.0</td>\n",
       "      <td>75</td>\n",
       "      <td>Good</td>\n",
       "    </tr>\n",
       "    <tr>\n",
       "      <th>6</th>\n",
       "      <td>female</td>\n",
       "      <td>some college</td>\n",
       "      <td>completed</td>\n",
       "      <td>88.0</td>\n",
       "      <td>95</td>\n",
       "      <td>Excellent</td>\n",
       "    </tr>\n",
       "  </tbody>\n",
       "</table>\n",
       "</div>"
      ],
      "text/plain": [
       "   gender parental level of education test preparation course  math score  \\\n",
       "0  female           bachelor's degree                    none        72.0   \n",
       "3    male          associate's degree                    none        47.0   \n",
       "4    male                some college                    none        76.0   \n",
       "5  female          associate's degree                    none        71.0   \n",
       "6  female                some college               completed        88.0   \n",
       "\n",
       "  writing score      Rating  \n",
       "0            55    Not good  \n",
       "3            45  Acceptance  \n",
       "4            75        Good  \n",
       "5            75        Good  \n",
       "6            95   Excellent  "
      ]
     },
     "execution_count": 22,
     "metadata": {},
     "output_type": "execute_result"
    }
   ],
   "source": [
    "#Apply discretization on writing score attribute\n",
    "bins=[29,39,49,59,69,79,89,100]\n",
    "cat_labels=[35,45,55, 65, 75, 85, 95]\n",
    "data['writing score'] = pd.cut(data['writing score'], bins, labels= cat_labels)\n",
    "data.head()\n"
   ]
  },
  {
   "cell_type": "code",
   "execution_count": 23,
   "id": "8dc679fa",
   "metadata": {},
   "outputs": [
    {
     "data": {
      "text/html": [
       "<div>\n",
       "<style scoped>\n",
       "    .dataframe tbody tr th:only-of-type {\n",
       "        vertical-align: middle;\n",
       "    }\n",
       "\n",
       "    .dataframe tbody tr th {\n",
       "        vertical-align: top;\n",
       "    }\n",
       "\n",
       "    .dataframe thead th {\n",
       "        text-align: right;\n",
       "    }\n",
       "</style>\n",
       "<table border=\"1\" class=\"dataframe\">\n",
       "  <thead>\n",
       "    <tr style=\"text-align: right;\">\n",
       "      <th></th>\n",
       "      <th>gender</th>\n",
       "      <th>parental level of education</th>\n",
       "      <th>test preparation course</th>\n",
       "      <th>math score</th>\n",
       "      <th>writing score</th>\n",
       "      <th>Rating</th>\n",
       "    </tr>\n",
       "  </thead>\n",
       "  <tbody>\n",
       "    <tr>\n",
       "      <th>0</th>\n",
       "      <td>female</td>\n",
       "      <td>bachelor's degree</td>\n",
       "      <td>none</td>\n",
       "      <td>75</td>\n",
       "      <td>55</td>\n",
       "      <td>Not good</td>\n",
       "    </tr>\n",
       "    <tr>\n",
       "      <th>3</th>\n",
       "      <td>male</td>\n",
       "      <td>associate's degree</td>\n",
       "      <td>none</td>\n",
       "      <td>45</td>\n",
       "      <td>45</td>\n",
       "      <td>Acceptance</td>\n",
       "    </tr>\n",
       "    <tr>\n",
       "      <th>4</th>\n",
       "      <td>male</td>\n",
       "      <td>some college</td>\n",
       "      <td>none</td>\n",
       "      <td>75</td>\n",
       "      <td>75</td>\n",
       "      <td>Good</td>\n",
       "    </tr>\n",
       "    <tr>\n",
       "      <th>5</th>\n",
       "      <td>female</td>\n",
       "      <td>associate's degree</td>\n",
       "      <td>none</td>\n",
       "      <td>75</td>\n",
       "      <td>75</td>\n",
       "      <td>Good</td>\n",
       "    </tr>\n",
       "    <tr>\n",
       "      <th>6</th>\n",
       "      <td>female</td>\n",
       "      <td>some college</td>\n",
       "      <td>completed</td>\n",
       "      <td>85</td>\n",
       "      <td>95</td>\n",
       "      <td>Excellent</td>\n",
       "    </tr>\n",
       "  </tbody>\n",
       "</table>\n",
       "</div>"
      ],
      "text/plain": [
       "   gender parental level of education test preparation course math score  \\\n",
       "0  female           bachelor's degree                    none         75   \n",
       "3    male          associate's degree                    none         45   \n",
       "4    male                some college                    none         75   \n",
       "5  female          associate's degree                    none         75   \n",
       "6  female                some college               completed         85   \n",
       "\n",
       "  writing score      Rating  \n",
       "0            55    Not good  \n",
       "3            45  Acceptance  \n",
       "4            75        Good  \n",
       "5            75        Good  \n",
       "6            95   Excellent  "
      ]
     },
     "execution_count": 23,
     "metadata": {},
     "output_type": "execute_result"
    }
   ],
   "source": [
    "#Apply discretization on math score attribute\n",
    "bins=[29,39,49,59,69,79,89,100]\n",
    "cat_labels=[35,45,55, 65, 75, 85, 95]\n",
    "data['math score'] = pd.cut(data['math score'], bins, labels= cat_labels)\n",
    "data.head()"
   ]
  },
  {
   "cell_type": "code",
   "execution_count": 24,
   "id": "759b538d",
   "metadata": {},
   "outputs": [
    {
     "data": {
      "text/plain": [
       "<AxesSubplot:>"
      ]
     },
     "execution_count": 24,
     "metadata": {},
     "output_type": "execute_result"
    },
    {
     "data": {
      "image/png": "[encoded data removed]",
      "text/plain": [
       "<Figure size 432x288 with 1 Axes>"
      ]
     },
     "metadata": {
      "needs_background": "light"
     },
     "output_type": "display_data"
    }
   ],
   "source": [
    "#show writing score diagram\n",
    "data['writing score'].hist()"
   ]
  },
  {
   "cell_type": "code",
   "execution_count": 25,
   "id": "b7b89d4a",
   "metadata": {},
   "outputs": [
    {
     "data": {
      "text/plain": [
       "<AxesSubplot:>"
      ]
     },
     "execution_count": 25,
     "metadata": {},
     "output_type": "execute_result"
    },
    {
     "data": {
      "image/png": "[encoded data removed]",
      "text/plain": [
       "<Figure size 432x288 with 1 Axes>"
      ]
     },
     "metadata": {
      "needs_background": "light"
     },
     "output_type": "display_data"
    }
   ],
   "source": [
    "#show math score diagram\n",
    "data['math score'].hist()"
   ]
  },
  {
   "cell_type": "code",
   "execution_count": 26,
   "id": "c009392d",
   "metadata": {},
   "outputs": [],
   "source": [
    "#Split the dataset into training and testing sets\n",
    "from sklearn.model_selection import train_test_split as tt\n",
    "trainSet, testSet = tt(data, test_size = 0.2)\n",
    "trainSet.to_csv('trainSet.csv')\n",
    "testSet.to_csv('testSet.csv')"
   ]
  },
  {
   "cell_type": "code",
   "execution_count": 27,
   "id": "cda11e21",
   "metadata": {},
   "outputs": [],
   "source": [
    "#Define the same data to set it as numerical values\n",
    "import copy #to copy data\n",
    "Dnumerical = copy.copy(data)"
   ]
  },
  {
   "cell_type": "code",
   "execution_count": 28,
   "id": "761e9f6a",
   "metadata": {},
   "outputs": [
    {
     "data": {
      "text/html": [
       "<div>\n",
       "<style scoped>\n",
       "    .dataframe tbody tr th:only-of-type {\n",
       "        vertical-align: middle;\n",
       "    }\n",
       "\n",
       "    .dataframe tbody tr th {\n",
       "        vertical-align: top;\n",
       "    }\n",
       "\n",
       "    .dataframe thead th {\n",
       "        text-align: right;\n",
       "    }\n",
       "</style>\n",
       "<table border=\"1\" class=\"dataframe\">\n",
       "  <thead>\n",
       "    <tr style=\"text-align: right;\">\n",
       "      <th></th>\n",
       "      <th>gender</th>\n",
       "      <th>parental level of education</th>\n",
       "      <th>test preparation course</th>\n",
       "      <th>math score</th>\n",
       "      <th>writing score</th>\n",
       "      <th>Rating</th>\n",
       "    </tr>\n",
       "  </thead>\n",
       "  <tbody>\n",
       "    <tr>\n",
       "      <th>0</th>\n",
       "      <td>0</td>\n",
       "      <td>bachelor's degree</td>\n",
       "      <td>none</td>\n",
       "      <td>75</td>\n",
       "      <td>55</td>\n",
       "      <td>Not good</td>\n",
       "    </tr>\n",
       "    <tr>\n",
       "      <th>3</th>\n",
       "      <td>1</td>\n",
       "      <td>associate's degree</td>\n",
       "      <td>none</td>\n",
       "      <td>45</td>\n",
       "      <td>45</td>\n",
       "      <td>Acceptance</td>\n",
       "    </tr>\n",
       "    <tr>\n",
       "      <th>4</th>\n",
       "      <td>1</td>\n",
       "      <td>some college</td>\n",
       "      <td>none</td>\n",
       "      <td>75</td>\n",
       "      <td>75</td>\n",
       "      <td>Good</td>\n",
       "    </tr>\n",
       "    <tr>\n",
       "      <th>5</th>\n",
       "      <td>0</td>\n",
       "      <td>associate's degree</td>\n",
       "      <td>none</td>\n",
       "      <td>75</td>\n",
       "      <td>75</td>\n",
       "      <td>Good</td>\n",
       "    </tr>\n",
       "    <tr>\n",
       "      <th>6</th>\n",
       "      <td>0</td>\n",
       "      <td>some college</td>\n",
       "      <td>completed</td>\n",
       "      <td>85</td>\n",
       "      <td>95</td>\n",
       "      <td>Excellent</td>\n",
       "    </tr>\n",
       "  </tbody>\n",
       "</table>\n",
       "</div>"
      ],
      "text/plain": [
       "  gender parental level of education test preparation course math score  \\\n",
       "0      0           bachelor's degree                    none         75   \n",
       "3      1          associate's degree                    none         45   \n",
       "4      1                some college                    none         75   \n",
       "5      0          associate's degree                    none         75   \n",
       "6      0                some college               completed         85   \n",
       "\n",
       "  writing score      Rating  \n",
       "0            55    Not good  \n",
       "3            45  Acceptance  \n",
       "4            75        Good  \n",
       "5            75        Good  \n",
       "6            95   Excellent  "
      ]
     },
     "execution_count": 28,
     "metadata": {},
     "output_type": "execute_result"
    }
   ],
   "source": [
    "#Gender Transformation\n",
    "Dnumerical.loc[(Dnumerical['gender'] == 'male'), 'gender'] = 1\n",
    "Dnumerical.loc[(Dnumerical['gender'] == 'female'), 'gender'] = 0\n",
    "Dnumerical.head()"
   ]
  },
  {
   "cell_type": "code",
   "execution_count": 29,
   "id": "bde2b036",
   "metadata": {},
   "outputs": [
    {
     "data": {
      "text/html": [
       "<div>\n",
       "<style scoped>\n",
       "    .dataframe tbody tr th:only-of-type {\n",
       "        vertical-align: middle;\n",
       "    }\n",
       "\n",
       "    .dataframe tbody tr th {\n",
       "        vertical-align: top;\n",
       "    }\n",
       "\n",
       "    .dataframe thead th {\n",
       "        text-align: right;\n",
       "    }\n",
       "</style>\n",
       "<table border=\"1\" class=\"dataframe\">\n",
       "  <thead>\n",
       "    <tr style=\"text-align: right;\">\n",
       "      <th></th>\n",
       "      <th>gender</th>\n",
       "      <th>parental level of education</th>\n",
       "      <th>test preparation course</th>\n",
       "      <th>math score</th>\n",
       "      <th>writing score</th>\n",
       "      <th>Rating</th>\n",
       "    </tr>\n",
       "  </thead>\n",
       "  <tbody>\n",
       "    <tr>\n",
       "      <th>0</th>\n",
       "      <td>0</td>\n",
       "      <td>4</td>\n",
       "      <td>none</td>\n",
       "      <td>75</td>\n",
       "      <td>55</td>\n",
       "      <td>Not good</td>\n",
       "    </tr>\n",
       "    <tr>\n",
       "      <th>3</th>\n",
       "      <td>1</td>\n",
       "      <td>3</td>\n",
       "      <td>none</td>\n",
       "      <td>45</td>\n",
       "      <td>45</td>\n",
       "      <td>Acceptance</td>\n",
       "    </tr>\n",
       "    <tr>\n",
       "      <th>4</th>\n",
       "      <td>1</td>\n",
       "      <td>2</td>\n",
       "      <td>none</td>\n",
       "      <td>75</td>\n",
       "      <td>75</td>\n",
       "      <td>Good</td>\n",
       "    </tr>\n",
       "    <tr>\n",
       "      <th>5</th>\n",
       "      <td>0</td>\n",
       "      <td>3</td>\n",
       "      <td>none</td>\n",
       "      <td>75</td>\n",
       "      <td>75</td>\n",
       "      <td>Good</td>\n",
       "    </tr>\n",
       "    <tr>\n",
       "      <th>6</th>\n",
       "      <td>0</td>\n",
       "      <td>2</td>\n",
       "      <td>completed</td>\n",
       "      <td>85</td>\n",
       "      <td>95</td>\n",
       "      <td>Excellent</td>\n",
       "    </tr>\n",
       "  </tbody>\n",
       "</table>\n",
       "</div>"
      ],
      "text/plain": [
       "  gender parental level of education test preparation course math score  \\\n",
       "0      0                           4                    none         75   \n",
       "3      1                           3                    none         45   \n",
       "4      1                           2                    none         75   \n",
       "5      0                           3                    none         75   \n",
       "6      0                           2               completed         85   \n",
       "\n",
       "  writing score      Rating  \n",
       "0            55    Not good  \n",
       "3            45  Acceptance  \n",
       "4            75        Good  \n",
       "5            75        Good  \n",
       "6            95   Excellent  "
      ]
     },
     "execution_count": 29,
     "metadata": {},
     "output_type": "execute_result"
    }
   ],
   "source": [
    "#parental level of education Transformation\n",
    "Dnumerical.loc[(Dnumerical['parental level of education'] == 'bachelor\\'s degree'), 'parental level of education'] = 4\n",
    "Dnumerical.loc[(Dnumerical['parental level of education'] == 'some college'), 'parental level of education'] = 2\n",
    "Dnumerical.loc[(Dnumerical['parental level of education'] == 'associate\\'s degree'), 'parental level of education'] = 3\n",
    "Dnumerical.loc[(Dnumerical['parental level of education'] == 'master\\'s degree'), 'parental level of education'] = 5\n",
    "Dnumerical.loc[(Dnumerical['parental level of education'] == 'high school'), 'parental level of education'] = 1\n",
    "Dnumerical.loc[(Dnumerical['parental level of education'] == 'some high school'), 'parental level of education'] = 0\n",
    "Dnumerical.head()"
   ]
  },
  {
   "cell_type": "code",
   "execution_count": 30,
   "id": "f45bb7e3",
   "metadata": {},
   "outputs": [
    {
     "data": {
      "text/html": [
       "<div>\n",
       "<style scoped>\n",
       "    .dataframe tbody tr th:only-of-type {\n",
       "        vertical-align: middle;\n",
       "    }\n",
       "\n",
       "    .dataframe tbody tr th {\n",
       "        vertical-align: top;\n",
       "    }\n",
       "\n",
       "    .dataframe thead th {\n",
       "        text-align: right;\n",
       "    }\n",
       "</style>\n",
       "<table border=\"1\" class=\"dataframe\">\n",
       "  <thead>\n",
       "    <tr style=\"text-align: right;\">\n",
       "      <th></th>\n",
       "      <th>gender</th>\n",
       "      <th>parental level of education</th>\n",
       "      <th>test preparation course</th>\n",
       "      <th>math score</th>\n",
       "      <th>writing score</th>\n",
       "      <th>Rating</th>\n",
       "    </tr>\n",
       "  </thead>\n",
       "  <tbody>\n",
       "    <tr>\n",
       "      <th>0</th>\n",
       "      <td>0</td>\n",
       "      <td>4</td>\n",
       "      <td>0</td>\n",
       "      <td>75</td>\n",
       "      <td>55</td>\n",
       "      <td>Not good</td>\n",
       "    </tr>\n",
       "    <tr>\n",
       "      <th>3</th>\n",
       "      <td>1</td>\n",
       "      <td>3</td>\n",
       "      <td>0</td>\n",
       "      <td>45</td>\n",
       "      <td>45</td>\n",
       "      <td>Acceptance</td>\n",
       "    </tr>\n",
       "    <tr>\n",
       "      <th>4</th>\n",
       "      <td>1</td>\n",
       "      <td>2</td>\n",
       "      <td>0</td>\n",
       "      <td>75</td>\n",
       "      <td>75</td>\n",
       "      <td>Good</td>\n",
       "    </tr>\n",
       "    <tr>\n",
       "      <th>5</th>\n",
       "      <td>0</td>\n",
       "      <td>3</td>\n",
       "      <td>0</td>\n",
       "      <td>75</td>\n",
       "      <td>75</td>\n",
       "      <td>Good</td>\n",
       "    </tr>\n",
       "    <tr>\n",
       "      <th>6</th>\n",
       "      <td>0</td>\n",
       "      <td>2</td>\n",
       "      <td>1</td>\n",
       "      <td>85</td>\n",
       "      <td>95</td>\n",
       "      <td>Excellent</td>\n",
       "    </tr>\n",
       "  </tbody>\n",
       "</table>\n",
       "</div>"
      ],
      "text/plain": [
       "  gender parental level of education test preparation course math score  \\\n",
       "0      0                           4                       0         75   \n",
       "3      1                           3                       0         45   \n",
       "4      1                           2                       0         75   \n",
       "5      0                           3                       0         75   \n",
       "6      0                           2                       1         85   \n",
       "\n",
       "  writing score      Rating  \n",
       "0            55    Not good  \n",
       "3            45  Acceptance  \n",
       "4            75        Good  \n",
       "5            75        Good  \n",
       "6            95   Excellent  "
      ]
     },
     "execution_count": 30,
     "metadata": {},
     "output_type": "execute_result"
    }
   ],
   "source": [
    "#test preparation course Transformation\n",
    "Dnumerical.loc[(Dnumerical['test preparation course'] == 'none'), 'test preparation course'] = 0\n",
    "Dnumerical.loc[(Dnumerical['test preparation course'] == 'completed'), 'test preparation course'] = 1\n",
    "Dnumerical.head()"
   ]
  },
  {
   "cell_type": "code",
   "execution_count": 31,
   "id": "ec672447",
   "metadata": {},
   "outputs": [
    {
     "data": {
      "text/html": [
       "<div>\n",
       "<style scoped>\n",
       "    .dataframe tbody tr th:only-of-type {\n",
       "        vertical-align: middle;\n",
       "    }\n",
       "\n",
       "    .dataframe tbody tr th {\n",
       "        vertical-align: top;\n",
       "    }\n",
       "\n",
       "    .dataframe thead th {\n",
       "        text-align: right;\n",
       "    }\n",
       "</style>\n",
       "<table border=\"1\" class=\"dataframe\">\n",
       "  <thead>\n",
       "    <tr style=\"text-align: right;\">\n",
       "      <th></th>\n",
       "      <th>gender</th>\n",
       "      <th>parental level of education</th>\n",
       "      <th>test preparation course</th>\n",
       "      <th>math score</th>\n",
       "      <th>writing score</th>\n",
       "      <th>Rating</th>\n",
       "    </tr>\n",
       "  </thead>\n",
       "  <tbody>\n",
       "    <tr>\n",
       "      <th>0</th>\n",
       "      <td>0</td>\n",
       "      <td>4</td>\n",
       "      <td>0</td>\n",
       "      <td>75</td>\n",
       "      <td>55</td>\n",
       "      <td>2</td>\n",
       "    </tr>\n",
       "    <tr>\n",
       "      <th>3</th>\n",
       "      <td>1</td>\n",
       "      <td>3</td>\n",
       "      <td>0</td>\n",
       "      <td>45</td>\n",
       "      <td>45</td>\n",
       "      <td>1</td>\n",
       "    </tr>\n",
       "    <tr>\n",
       "      <th>4</th>\n",
       "      <td>1</td>\n",
       "      <td>2</td>\n",
       "      <td>0</td>\n",
       "      <td>75</td>\n",
       "      <td>75</td>\n",
       "      <td>3</td>\n",
       "    </tr>\n",
       "    <tr>\n",
       "      <th>5</th>\n",
       "      <td>0</td>\n",
       "      <td>3</td>\n",
       "      <td>0</td>\n",
       "      <td>75</td>\n",
       "      <td>75</td>\n",
       "      <td>3</td>\n",
       "    </tr>\n",
       "    <tr>\n",
       "      <th>6</th>\n",
       "      <td>0</td>\n",
       "      <td>2</td>\n",
       "      <td>1</td>\n",
       "      <td>85</td>\n",
       "      <td>95</td>\n",
       "      <td>5</td>\n",
       "    </tr>\n",
       "  </tbody>\n",
       "</table>\n",
       "</div>"
      ],
      "text/plain": [
       "  gender parental level of education test preparation course  math score  \\\n",
       "0      0                           4                       0          75   \n",
       "3      1                           3                       0          45   \n",
       "4      1                           2                       0          75   \n",
       "5      0                           3                       0          75   \n",
       "6      0                           2                       1          85   \n",
       "\n",
       "   writing score Rating  \n",
       "0             55      2  \n",
       "3             45      1  \n",
       "4             75      3  \n",
       "5             75      3  \n",
       "6             95      5  "
      ]
     },
     "execution_count": 31,
     "metadata": {},
     "output_type": "execute_result"
    }
   ],
   "source": [
    "#Rating Transformation\n",
    "Dnumerical.loc[(Dnumerical['Rating'] == 'Fail'), 'Rating'] = 0\n",
    "Dnumerical.loc[(Dnumerical['Rating'] == 'Acceptance'), 'Rating'] = 1\n",
    "Dnumerical.loc[(Dnumerical['Rating'] == 'Not good'), 'Rating'] = 2\n",
    "Dnumerical.loc[(Dnumerical['Rating'] == 'Good'), 'Rating'] = 3\n",
    "Dnumerical.loc[(Dnumerical['Rating'] == 'Very good'), 'Rating'] = 4\n",
    "Dnumerical.loc[(Dnumerical['Rating'] == 'Excellent'), 'Rating'] = 5\n",
    "\n",
    "#convert_dtypes to numeric\n",
    "Dnumerical[\"math score\"] = pd.to_numeric(Dnumerical[\"math score\"])\n",
    "Dnumerical[\"writing score\"] = pd.to_numeric(Dnumerical[\"writing score\"])\n",
    "Dnumerical[\"Rating\"] = Dnumerical[\"Rating\"].astype(\"category\")\n",
    "Dnumerical.head() #All columns have been converted"
   ]
  },
  {
   "cell_type": "code",
   "execution_count": null,
   "id": "dc342cad",
   "metadata": {},
   "outputs": [],
   "source": []
  },
  {
   "cell_type": "code",
   "execution_count": null,
   "id": "024dfcef",
   "metadata": {},
   "outputs": [],
   "source": []
  },
  {
   "cell_type": "code",
   "execution_count": 32,
   "id": "732379e6",
   "metadata": {},
   "outputs": [
    {
     "data": {
      "text/html": [
       "<div>\n",
       "<style scoped>\n",
       "    .dataframe tbody tr th:only-of-type {\n",
       "        vertical-align: middle;\n",
       "    }\n",
       "\n",
       "    .dataframe tbody tr th {\n",
       "        vertical-align: top;\n",
       "    }\n",
       "\n",
       "    .dataframe thead th {\n",
       "        text-align: right;\n",
       "    }\n",
       "</style>\n",
       "<table border=\"1\" class=\"dataframe\">\n",
       "  <thead>\n",
       "    <tr style=\"text-align: right;\">\n",
       "      <th></th>\n",
       "      <th>gender</th>\n",
       "      <th>parental level of education</th>\n",
       "      <th>test preparation course</th>\n",
       "      <th>math score</th>\n",
       "      <th>writing score</th>\n",
       "      <th>Rating</th>\n",
       "    </tr>\n",
       "  </thead>\n",
       "  <tbody>\n",
       "    <tr>\n",
       "      <th>0</th>\n",
       "      <td>female</td>\n",
       "      <td>bachelor's degree</td>\n",
       "      <td>none</td>\n",
       "      <td>75</td>\n",
       "      <td>55</td>\n",
       "      <td>Not good</td>\n",
       "    </tr>\n",
       "    <tr>\n",
       "      <th>3</th>\n",
       "      <td>male</td>\n",
       "      <td>associate's degree</td>\n",
       "      <td>none</td>\n",
       "      <td>45</td>\n",
       "      <td>45</td>\n",
       "      <td>Acceptance</td>\n",
       "    </tr>\n",
       "    <tr>\n",
       "      <th>4</th>\n",
       "      <td>male</td>\n",
       "      <td>some college</td>\n",
       "      <td>none</td>\n",
       "      <td>75</td>\n",
       "      <td>75</td>\n",
       "      <td>Good</td>\n",
       "    </tr>\n",
       "    <tr>\n",
       "      <th>5</th>\n",
       "      <td>female</td>\n",
       "      <td>associate's degree</td>\n",
       "      <td>none</td>\n",
       "      <td>75</td>\n",
       "      <td>75</td>\n",
       "      <td>Good</td>\n",
       "    </tr>\n",
       "    <tr>\n",
       "      <th>6</th>\n",
       "      <td>female</td>\n",
       "      <td>some college</td>\n",
       "      <td>completed</td>\n",
       "      <td>85</td>\n",
       "      <td>95</td>\n",
       "      <td>Excellent</td>\n",
       "    </tr>\n",
       "  </tbody>\n",
       "</table>\n",
       "</div>"
      ],
      "text/plain": [
       "   gender parental level of education test preparation course math score  \\\n",
       "0  female           bachelor's degree                    none         75   \n",
       "3    male          associate's degree                    none         45   \n",
       "4    male                some college                    none         75   \n",
       "5  female          associate's degree                    none         75   \n",
       "6  female                some college               completed         85   \n",
       "\n",
       "  writing score      Rating  \n",
       "0            55    Not good  \n",
       "3            45  Acceptance  \n",
       "4            75        Good  \n",
       "5            75        Good  \n",
       "6            95   Excellent  "
      ]
     },
     "execution_count": 32,
     "metadata": {},
     "output_type": "execute_result"
    }
   ],
   "source": [
    "data.head()"
   ]
  },
  {
   "cell_type": "code",
   "execution_count": 33,
   "id": "57ffdc9a",
   "metadata": {},
   "outputs": [],
   "source": [
    "#Split the Dnumerical into training and testing sets\n",
    "trainSetNumeric, testSetNumeric = tt(Dnumerical, test_size = 0.2)\n",
    "\n",
    "#clasification\n",
    "trainD= trainSetNumeric.drop(['Rating'], axis=1); #train data\n",
    "trainT= trainSetNumeric.Rating;                   #tarain target\n",
    "testD= testSetNumeric.drop(['Rating'], axis=1);   #test data\n",
    "testT= testSetNumeric.Rating;                     #test target"
   ]
  },
  {
   "cell_type": "code",
   "execution_count": 34,
   "id": "e72e7d90",
   "metadata": {},
   "outputs": [
    {
     "data": {
      "text/html": [
       "<div>\n",
       "<style scoped>\n",
       "    .dataframe tbody tr th:only-of-type {\n",
       "        vertical-align: middle;\n",
       "    }\n",
       "\n",
       "    .dataframe tbody tr th {\n",
       "        vertical-align: top;\n",
       "    }\n",
       "\n",
       "    .dataframe thead th {\n",
       "        text-align: right;\n",
       "    }\n",
       "</style>\n",
       "<table border=\"1\" class=\"dataframe\">\n",
       "  <thead>\n",
       "    <tr style=\"text-align: right;\">\n",
       "      <th></th>\n",
       "      <th>gender</th>\n",
       "      <th>parental level of education</th>\n",
       "      <th>test preparation course</th>\n",
       "      <th>math score</th>\n",
       "      <th>writing score</th>\n",
       "    </tr>\n",
       "  </thead>\n",
       "  <tbody>\n",
       "    <tr>\n",
       "      <th>742</th>\n",
       "      <td>0</td>\n",
       "      <td>1</td>\n",
       "      <td>0</td>\n",
       "      <td>85</td>\n",
       "      <td>85</td>\n",
       "    </tr>\n",
       "    <tr>\n",
       "      <th>282</th>\n",
       "      <td>0</td>\n",
       "      <td>4</td>\n",
       "      <td>0</td>\n",
       "      <td>75</td>\n",
       "      <td>85</td>\n",
       "    </tr>\n",
       "    <tr>\n",
       "      <th>435</th>\n",
       "      <td>1</td>\n",
       "      <td>2</td>\n",
       "      <td>1</td>\n",
       "      <td>55</td>\n",
       "      <td>55</td>\n",
       "    </tr>\n",
       "    <tr>\n",
       "      <th>607</th>\n",
       "      <td>0</td>\n",
       "      <td>5</td>\n",
       "      <td>0</td>\n",
       "      <td>45</td>\n",
       "      <td>55</td>\n",
       "    </tr>\n",
       "    <tr>\n",
       "      <th>531</th>\n",
       "      <td>0</td>\n",
       "      <td>0</td>\n",
       "      <td>0</td>\n",
       "      <td>45</td>\n",
       "      <td>55</td>\n",
       "    </tr>\n",
       "    <tr>\n",
       "      <th>684</th>\n",
       "      <td>1</td>\n",
       "      <td>2</td>\n",
       "      <td>1</td>\n",
       "      <td>65</td>\n",
       "      <td>65</td>\n",
       "    </tr>\n",
       "    <tr>\n",
       "      <th>185</th>\n",
       "      <td>1</td>\n",
       "      <td>3</td>\n",
       "      <td>1</td>\n",
       "      <td>65</td>\n",
       "      <td>65</td>\n",
       "    </tr>\n",
       "    <tr>\n",
       "      <th>615</th>\n",
       "      <td>0</td>\n",
       "      <td>1</td>\n",
       "      <td>0</td>\n",
       "      <td>65</td>\n",
       "      <td>75</td>\n",
       "    </tr>\n",
       "    <tr>\n",
       "      <th>839</th>\n",
       "      <td>0</td>\n",
       "      <td>3</td>\n",
       "      <td>0</td>\n",
       "      <td>65</td>\n",
       "      <td>75</td>\n",
       "    </tr>\n",
       "    <tr>\n",
       "      <th>781</th>\n",
       "      <td>0</td>\n",
       "      <td>5</td>\n",
       "      <td>0</td>\n",
       "      <td>75</td>\n",
       "      <td>85</td>\n",
       "    </tr>\n",
       "    <tr>\n",
       "      <th>624</th>\n",
       "      <td>0</td>\n",
       "      <td>4</td>\n",
       "      <td>0</td>\n",
       "      <td>65</td>\n",
       "      <td>65</td>\n",
       "    </tr>\n",
       "    <tr>\n",
       "      <th>330</th>\n",
       "      <td>1</td>\n",
       "      <td>1</td>\n",
       "      <td>0</td>\n",
       "      <td>75</td>\n",
       "      <td>65</td>\n",
       "    </tr>\n",
       "  </tbody>\n",
       "</table>\n",
       "</div>"
      ],
      "text/plain": [
       "    gender parental level of education test preparation course  math score  \\\n",
       "742      0                           1                       0          85   \n",
       "282      0                           4                       0          75   \n",
       "435      1                           2                       1          55   \n",
       "607      0                           5                       0          45   \n",
       "531      0                           0                       0          45   \n",
       "684      1                           2                       1          65   \n",
       "185      1                           3                       1          65   \n",
       "615      0                           1                       0          65   \n",
       "839      0                           3                       0          65   \n",
       "781      0                           5                       0          75   \n",
       "624      0                           4                       0          65   \n",
       "330      1                           1                       0          75   \n",
       "\n",
       "     writing score  \n",
       "742             85  \n",
       "282             85  \n",
       "435             55  \n",
       "607             55  \n",
       "531             55  \n",
       "684             65  \n",
       "185             65  \n",
       "615             75  \n",
       "839             75  \n",
       "781             85  \n",
       "624             65  \n",
       "330             65  "
      ]
     },
     "execution_count": 34,
     "metadata": {},
     "output_type": "execute_result"
    }
   ],
   "source": [
    "#Make sure that it has been splittted\n",
    "trainD.head(12)"
   ]
  },
  {
   "cell_type": "code",
   "execution_count": 35,
   "id": "0ab9c452",
   "metadata": {},
   "outputs": [
    {
     "data": {
      "text/html": [
       "<div>\n",
       "<style scoped>\n",
       "    .dataframe tbody tr th:only-of-type {\n",
       "        vertical-align: middle;\n",
       "    }\n",
       "\n",
       "    .dataframe tbody tr th {\n",
       "        vertical-align: top;\n",
       "    }\n",
       "\n",
       "    .dataframe thead th {\n",
       "        text-align: right;\n",
       "    }\n",
       "</style>\n",
       "<table border=\"1\" class=\"dataframe\">\n",
       "  <thead>\n",
       "    <tr style=\"text-align: right;\">\n",
       "      <th></th>\n",
       "      <th>gender</th>\n",
       "      <th>parental level of education</th>\n",
       "      <th>test preparation course</th>\n",
       "      <th>math score</th>\n",
       "      <th>writing score</th>\n",
       "    </tr>\n",
       "  </thead>\n",
       "  <tbody>\n",
       "    <tr>\n",
       "      <th>976</th>\n",
       "      <td>1</td>\n",
       "      <td>2</td>\n",
       "      <td>1</td>\n",
       "      <td>65</td>\n",
       "      <td>65</td>\n",
       "    </tr>\n",
       "    <tr>\n",
       "      <th>927</th>\n",
       "      <td>0</td>\n",
       "      <td>1</td>\n",
       "      <td>1</td>\n",
       "      <td>65</td>\n",
       "      <td>75</td>\n",
       "    </tr>\n",
       "    <tr>\n",
       "      <th>989</th>\n",
       "      <td>0</td>\n",
       "      <td>2</td>\n",
       "      <td>1</td>\n",
       "      <td>65</td>\n",
       "      <td>85</td>\n",
       "    </tr>\n",
       "    <tr>\n",
       "      <th>854</th>\n",
       "      <td>1</td>\n",
       "      <td>0</td>\n",
       "      <td>0</td>\n",
       "      <td>65</td>\n",
       "      <td>55</td>\n",
       "    </tr>\n",
       "    <tr>\n",
       "      <th>505</th>\n",
       "      <td>0</td>\n",
       "      <td>0</td>\n",
       "      <td>0</td>\n",
       "      <td>85</td>\n",
       "      <td>85</td>\n",
       "    </tr>\n",
       "    <tr>\n",
       "      <th>536</th>\n",
       "      <td>1</td>\n",
       "      <td>3</td>\n",
       "      <td>1</td>\n",
       "      <td>55</td>\n",
       "      <td>55</td>\n",
       "    </tr>\n",
       "    <tr>\n",
       "      <th>469</th>\n",
       "      <td>1</td>\n",
       "      <td>2</td>\n",
       "      <td>0</td>\n",
       "      <td>95</td>\n",
       "      <td>75</td>\n",
       "    </tr>\n",
       "    <tr>\n",
       "      <th>324</th>\n",
       "      <td>0</td>\n",
       "      <td>1</td>\n",
       "      <td>0</td>\n",
       "      <td>45</td>\n",
       "      <td>45</td>\n",
       "    </tr>\n",
       "    <tr>\n",
       "      <th>190</th>\n",
       "      <td>0</td>\n",
       "      <td>3</td>\n",
       "      <td>0</td>\n",
       "      <td>65</td>\n",
       "      <td>65</td>\n",
       "    </tr>\n",
       "    <tr>\n",
       "      <th>480</th>\n",
       "      <td>1</td>\n",
       "      <td>1</td>\n",
       "      <td>1</td>\n",
       "      <td>75</td>\n",
       "      <td>65</td>\n",
       "    </tr>\n",
       "    <tr>\n",
       "      <th>584</th>\n",
       "      <td>0</td>\n",
       "      <td>2</td>\n",
       "      <td>0</td>\n",
       "      <td>65</td>\n",
       "      <td>75</td>\n",
       "    </tr>\n",
       "    <tr>\n",
       "      <th>668</th>\n",
       "      <td>1</td>\n",
       "      <td>2</td>\n",
       "      <td>0</td>\n",
       "      <td>75</td>\n",
       "      <td>65</td>\n",
       "    </tr>\n",
       "  </tbody>\n",
       "</table>\n",
       "</div>"
      ],
      "text/plain": [
       "    gender parental level of education test preparation course  math score  \\\n",
       "976      1                           2                       1          65   \n",
       "927      0                           1                       1          65   \n",
       "989      0                           2                       1          65   \n",
       "854      1                           0                       0          65   \n",
       "505      0                           0                       0          85   \n",
       "536      1                           3                       1          55   \n",
       "469      1                           2                       0          95   \n",
       "324      0                           1                       0          45   \n",
       "190      0                           3                       0          65   \n",
       "480      1                           1                       1          75   \n",
       "584      0                           2                       0          65   \n",
       "668      1                           2                       0          75   \n",
       "\n",
       "     writing score  \n",
       "976             65  \n",
       "927             75  \n",
       "989             85  \n",
       "854             55  \n",
       "505             85  \n",
       "536             55  \n",
       "469             75  \n",
       "324             45  \n",
       "190             65  \n",
       "480             65  \n",
       "584             75  \n",
       "668             65  "
      ]
     },
     "execution_count": 35,
     "metadata": {},
     "output_type": "execute_result"
    }
   ],
   "source": [
    "#Make sure that it has been splittted (cont.)\n",
    "testD.head(12)"
   ]
  },
  {
   "cell_type": "code",
   "execution_count": 36,
   "id": "6035c104",
   "metadata": {},
   "outputs": [
    {
     "data": {
      "text/plain": [
       "742    4\n",
       "282    3\n",
       "435    1\n",
       "607    1\n",
       "531    1\n",
       "684    2\n",
       "185    2\n",
       "615    2\n",
       "839    3\n",
       "781    4\n",
       "624    2\n",
       "330    2\n",
       "Name: Rating, dtype: category\n",
       "Categories (6, int64): [0, 1, 2, 3, 4, 5]"
      ]
     },
     "execution_count": 36,
     "metadata": {},
     "output_type": "execute_result"
    }
   ],
   "source": [
    "#Make sure that it has been splittted (cont.)\n",
    "trainT.head(12)"
   ]
  },
  {
   "cell_type": "code",
   "execution_count": 37,
   "id": "baea0cd8",
   "metadata": {},
   "outputs": [
    {
     "data": {
      "text/plain": [
       "976    2\n",
       "927    2\n",
       "989    3\n",
       "854    2\n",
       "505    4\n",
       "536    1\n",
       "469    4\n",
       "324    0\n",
       "190    2\n",
       "480    3\n",
       "584    3\n",
       "668    3\n",
       "Name: Rating, dtype: category\n",
       "Categories (6, int64): [0, 1, 2, 3, 4, 5]"
      ]
     },
     "execution_count": 37,
     "metadata": {},
     "output_type": "execute_result"
    }
   ],
   "source": [
    "#Make sure that it has been splittted (cont.)\n",
    "testT.head(12)"
   ]
  },
  {
   "cell_type": "code",
   "execution_count": 38,
   "id": "1581cbc1",
   "metadata": {},
   "outputs": [
    {
     "data": {
      "image/png": "[encoded data removed]",
      "text/plain": [
       "<Figure size 360x360 with 2 Axes>"
      ]
     },
     "metadata": {
      "needs_background": "light"
     },
     "output_type": "display_data"
    },
    {
     "name": "stdout",
     "output_type": "stream",
     "text": [
      "--------------------------------------------------\n",
      "Test accurecy :  0.72\n"
     ]
    }
   ],
   "source": [
    "#classification algorithms\n",
    "\n",
    "# 1- Apply K-Nearest Neighbors Algorithm\n",
    "\n",
    "from sklearn.neighbors import KNeighborsClassifier as knn\n",
    "from sklearn import metrics\n",
    "import seaborn as sns\n",
    "\n",
    "#build model\n",
    "model1= knn(n_neighbors=5)\n",
    "model1.fit(trainD,trainT)\n",
    "\n",
    "#predict\n",
    "pred= model1.predict(testD)\n",
    "\n",
    "#compare results\n",
    "from sklearn.metrics import confusion_matrix\n",
    "cm = confusion_matrix(testT, pred)\n",
    "f, ax = plt.subplots(figsize =(5,5))\n",
    "sns.heatmap(cm,annot = True,linewidths=0.5,linecolor=\"red\",fmt = \".0f\",ax=ax)\n",
    "plt.xlabel(\"pred\")\n",
    "plt.ylabel(\"testT\")\n",
    "plt.show()\n",
    "print('-'*50)\n",
    "print (\"Test accurecy : \",metrics.accuracy_score(testT,pred))"
   ]
  },
  {
   "cell_type": "code",
   "execution_count": 39,
   "id": "c304f3b7",
   "metadata": {},
   "outputs": [
    {
     "data": {
      "image/png": "[encoded data removed]",
      "text/plain": [
       "<Figure size 360x360 with 2 Axes>"
      ]
     },
     "metadata": {
      "needs_background": "light"
     },
     "output_type": "display_data"
    },
    {
     "name": "stdout",
     "output_type": "stream",
     "text": [
      "--------------------------------------------------\n",
      "Test Accuracy: 75.5%\n"
     ]
    }
   ],
   "source": [
    "# 2- Apply naive bayes Algorithm\n",
    "\n",
    "from sklearn.naive_bayes import GaussianNB\n",
    "\n",
    "#build model\n",
    "nb = GaussianNB()\n",
    "nb.fit(trainD,trainT)\n",
    "\n",
    "#predict\n",
    "pred = nb.predict(testD)\n",
    "\n",
    "#compare results\n",
    "cm = confusion_matrix(testT, pred)\n",
    "f, ax = plt.subplots(figsize =(5,5))\n",
    "sns.heatmap(cm,annot = True,linewidths=0.5,linecolor=\"red\",fmt = \".0f\",ax=ax)\n",
    "plt.xlabel(\"pred\")\n",
    "plt.ylabel(\"testT\")\n",
    "plt.show()\n",
    "print('-'*50)\n",
    "print(\"Test Accuracy: {}%\".format(round(nb.score(testD,testT)*100,2)))"
   ]
  },
  {
   "cell_type": "code",
   "execution_count": 40,
   "id": "3fee35f2",
   "metadata": {},
   "outputs": [
    {
     "name": "stdout",
     "output_type": "stream",
     "text": [
      "[[  0   1   0  95   0]\n",
      " [  1 114   0  63   2]\n",
      " [ 30 183   0   0  40]\n",
      " [187   9   0   0  66]\n",
      " [ 42   0  88   0  20]\n",
      " [  0   0  57   0   0]]\n"
     ]
    }
   ],
   "source": [
    "#clustering algorithms\n",
    "\n",
    "# 1- KMeans clustering\n",
    "attributes= Dnumerical.drop(['Rating'], axis=1)\n",
    "labels = Dnumerical.Rating\n",
    "\n",
    "#ignore warnings\n",
    "import warnings\n",
    "warnings.filterwarnings('ignore')\n",
    "\n",
    "#build model\n",
    "from sklearn.cluster import KMeans\n",
    "model= KMeans(n_clusters=5)\n",
    "model.fit(attributes)\n",
    "\n",
    "#predict\n",
    "pred = model.predict(attributes)\n",
    "\n",
    "#compare results\n",
    "from sklearn import metrics\n",
    "contingecyMatrix = metrics.cluster.contingency_matrix(labels, pred)\n",
    "print (contingecyMatrix)"
   ]
  },
  {
   "cell_type": "code",
   "execution_count": 41,
   "id": "a5d5c0c7",
   "metadata": {},
   "outputs": [
    {
     "data": {
      "image/png": "[encoded data removed]",
      "text/plain": [
       "<Figure size 360x360 with 2 Axes>"
      ]
     },
     "metadata": {
      "needs_background": "light"
     },
     "output_type": "display_data"
    },
    {
     "name": "stdout",
     "output_type": "stream",
     "text": [
      "--------------------------------------------------\n",
      "Test Accuracy: 0.4138868743933318\n"
     ]
    }
   ],
   "source": [
    "# To view and compare results\n",
    "from sklearn.metrics import confusion_matrix\n",
    "cm = confusion_matrix(labels, pred)\n",
    "f, ax = plt.subplots(figsize =(5,5))\n",
    "sns.heatmap(cm,annot = True,linewidths=0.5,linecolor=\"red\",fmt = \".0f\",ax=ax)\n",
    "plt.xlabel(\"pred\")\n",
    "plt.ylabel(\"labels\")\n",
    "plt.show()\n",
    "ari= metrics.cluster.adjusted_rand_score(labels, pred)\n",
    "print('-'*50)\n",
    "print(\"Test Accuracy:\" , ari)"
   ]
  },
  {
   "cell_type": "code",
   "execution_count": 42,
   "id": "76c038f1",
   "metadata": {},
   "outputs": [
    {
     "data": {
      "image/png": "[encoded data removed]",
      "text/plain": [
       "<Figure size 432x288 with 1 Axes>"
      ]
     },
     "metadata": {
      "needs_background": "light"
     },
     "output_type": "display_data"
    },
    {
     "data": {
      "text/plain": [
       "<Figure size 21600x10800 with 0 Axes>"
      ]
     },
     "metadata": {},
     "output_type": "display_data"
    }
   ],
   "source": [
    "# 2- hieratchy cluster\n",
    "\n",
    "#import and build hieratchy cluster model\n",
    "from scipy.cluster.hierarchy import linkage, dendrogram\n",
    "target_col = Dnumerical[\"Rating\"]\n",
    "feat = Dnumerical.drop(['Rating'], axis=1)\n",
    "\n",
    "#Convert them into ndarrays\n",
    "x = feat.to_numpy(dtype ='float32')\n",
    "y = target_col.to_numpy()\n",
    "\n",
    "# Calculate the linkage: mergings\n",
    "mergings = linkage(x, method = 'ward')\n",
    "\n",
    "# Plot the dendrogram\n",
    "dendrogram(mergings, labels = y, leaf_rotation = 120, leaf_font_size = 6)\n",
    "from matplotlib import pyplot as plt\n",
    "plt.figure(figsize=(300, 150))\n",
    "plt.show()"
   ]
  },
  {
   "cell_type": "code",
   "execution_count": 43,
   "id": "98b91fd9",
   "metadata": {},
   "outputs": [
    {
     "data": {
      "image/png": "[encoded data removed]",
      "text/plain": [
       "<Figure size 360x360 with 2 Axes>"
      ]
     },
     "metadata": {
      "needs_background": "light"
     },
     "output_type": "display_data"
    },
    {
     "name": "stdout",
     "output_type": "stream",
     "text": [
      "--------------------------------------------------\n",
      "Test Accuracy: 0.3724011173062733\n"
     ]
    }
   ],
   "source": [
    "# Predict and compare results\n",
    "from sklearn.cluster import AgglomerativeClustering\n",
    "cluster = AgglomerativeClustering(n_clusters=6, affinity='euclidean', linkage='ward')\n",
    "pred=cluster.fit_predict(x)\n",
    "from sklearn.metrics import confusion_matrix\n",
    "cm = confusion_matrix(target_col, pred)\n",
    "f, ax = plt.subplots(figsize =(5,5))\n",
    "sns.heatmap(cm,annot = True,linewidths=0.5,linecolor=\"red\",fmt = \".0f\",ax=ax)\n",
    "plt.xlabel(\"pred\")\n",
    "plt.ylabel(\"target_col\")\n",
    "plt.show()\n",
    "ari= metrics.cluster.adjusted_rand_score(target_col, pred)\n",
    "print('-'*50)\n",
    "print(\"Test Accuracy:\" , ari)"
   ]
  },
  {
   "cell_type": "code",
   "execution_count": 44,
   "id": "7cdabd30",
   "metadata": {},
   "outputs": [
    {
     "data": {
      "text/html": [
       "<div>\n",
       "<style scoped>\n",
       "    .dataframe tbody tr th:only-of-type {\n",
       "        vertical-align: middle;\n",
       "    }\n",
       "\n",
       "    .dataframe tbody tr th {\n",
       "        vertical-align: top;\n",
       "    }\n",
       "\n",
       "    .dataframe thead th {\n",
       "        text-align: right;\n",
       "    }\n",
       "</style>\n",
       "<table border=\"1\" class=\"dataframe\">\n",
       "  <thead>\n",
       "    <tr style=\"text-align: right;\">\n",
       "      <th></th>\n",
       "      <th>gender</th>\n",
       "      <th>parental level of education</th>\n",
       "      <th>test preparation course</th>\n",
       "      <th>math score</th>\n",
       "      <th>writing score</th>\n",
       "      <th>Rating</th>\n",
       "    </tr>\n",
       "  </thead>\n",
       "  <tbody>\n",
       "    <tr>\n",
       "      <th>0</th>\n",
       "      <td>female</td>\n",
       "      <td>bachelor's degree</td>\n",
       "      <td>none</td>\n",
       "      <td>C</td>\n",
       "      <td>E</td>\n",
       "      <td>Not good</td>\n",
       "    </tr>\n",
       "    <tr>\n",
       "      <th>3</th>\n",
       "      <td>male</td>\n",
       "      <td>associate's degree</td>\n",
       "      <td>none</td>\n",
       "      <td>F</td>\n",
       "      <td>F</td>\n",
       "      <td>Acceptance</td>\n",
       "    </tr>\n",
       "    <tr>\n",
       "      <th>4</th>\n",
       "      <td>male</td>\n",
       "      <td>some college</td>\n",
       "      <td>none</td>\n",
       "      <td>C</td>\n",
       "      <td>C</td>\n",
       "      <td>Good</td>\n",
       "    </tr>\n",
       "    <tr>\n",
       "      <th>5</th>\n",
       "      <td>female</td>\n",
       "      <td>associate's degree</td>\n",
       "      <td>none</td>\n",
       "      <td>C</td>\n",
       "      <td>C</td>\n",
       "      <td>Good</td>\n",
       "    </tr>\n",
       "    <tr>\n",
       "      <th>6</th>\n",
       "      <td>female</td>\n",
       "      <td>some college</td>\n",
       "      <td>completed</td>\n",
       "      <td>B</td>\n",
       "      <td>A</td>\n",
       "      <td>Excellent</td>\n",
       "    </tr>\n",
       "  </tbody>\n",
       "</table>\n",
       "</div>"
      ],
      "text/plain": [
       "   gender parental level of education test preparation course math score  \\\n",
       "0  female           bachelor's degree                    none          C   \n",
       "3    male          associate's degree                    none          F   \n",
       "4    male                some college                    none          C   \n",
       "5  female          associate's degree                    none          C   \n",
       "6  female                some college               completed          B   \n",
       "\n",
       "  writing score      Rating  \n",
       "0             E    Not good  \n",
       "3             F  Acceptance  \n",
       "4             C        Good  \n",
       "5             C        Good  \n",
       "6             A   Excellent  "
      ]
     },
     "execution_count": 44,
     "metadata": {},
     "output_type": "execute_result"
    }
   ],
   "source": [
    "#Define the same data with nominal values\n",
    "Dnominal = copy.copy(data)\n",
    "\n",
    "#writing score and math score Transformation\n",
    "bins=[29,39,49,59,69,79,89,100]\n",
    "cat_labels=['G','F','E', 'D', 'C', 'B', 'A']\n",
    "Dnominal['writing score'] = pd.cut(Dnominal['writing score'], bins, labels= cat_labels)\n",
    "Dnominal['math score'] = pd.cut(Dnominal['math score'], bins, labels= cat_labels)\n",
    "Dnominal.head() #All columns have been converted"
   ]
  },
  {
   "cell_type": "code",
   "execution_count": 45,
   "id": "1d3ac751",
   "metadata": {},
   "outputs": [
    {
     "name": "stdout",
     "output_type": "stream",
     "text": [
      "[[False False False ... False False False]\n",
      " [ True False  True ...  True  True False]\n",
      " [ True False  True ...  True False False]\n",
      " ...\n",
      " [False False False ... False False False]\n",
      " [False False False ... False False False]\n",
      " [False False False ... False False False]]\n",
      "--------------------------------------------------\n",
      "frequent_itemsets: \n",
      "    support itemsets\n",
      "0  0.00501      (e)\n",
      "1  0.00501      (n)\n",
      "2  0.00501      (r)\n",
      "3  0.00501      (t)\n",
      "4  0.00501   (e, r)\n",
      "--------------------------------------------------\n",
      "rules: \n",
      "   antecedents consequents  antecedent support  consequent support  support  \\\n",
      "0         (e)         (r)             0.00501             0.00501  0.00501   \n",
      "1         (r)         (e)             0.00501             0.00501  0.00501   \n",
      "\n",
      "   confidence   lift  leverage  conviction  \n",
      "0         1.0  199.6  0.004985         inf  \n",
      "1         1.0  199.6  0.004985         inf  \n"
     ]
    }
   ],
   "source": [
    "#association_rules\n",
    "\n",
    "# 1- apriori association_rule algorithm :\n",
    "\n",
    "from mlxtend.preprocessing import TransactionEncoder\n",
    "from mlxtend.frequent_patterns import apriori, fpmax, fpgrowth, association_rules\n",
    "\n",
    "#deal with Transaction\n",
    "te = TransactionEncoder()\n",
    "#transform the Transaction data set to 2D array\n",
    "te_ary = te.fit(Dnominal).transform(Dnominal) \n",
    "print(te_ary)\n",
    "print('-'*50)\n",
    "#convert the array into DataFrame\n",
    "dd = pd.DataFrame(te_ary, columns=te.columns_)\n",
    "#get the frequent itemset\n",
    "frequent_itemsets_apriori = apriori(dd, min_support=0.005, use_colnames=True)\n",
    "#get the association_rules from frequent itemset \n",
    "rules_apriori = association_rules(frequent_itemsets_apriori, metric=\"lift\", min_threshold=1.2)\n",
    "print(\"frequent_itemsets: \\n\",frequent_itemsets_apriori)\n",
    "print('-'*50)\n",
    "print(\"rules: \\n\",rules_apriori)"
   ]
  },
  {
   "cell_type": "code",
   "execution_count": 46,
   "id": "c513360e",
   "metadata": {
    "scrolled": true
   },
   "outputs": [
    {
     "name": "stdout",
     "output_type": "stream",
     "text": [
      "--------------------------------------------------\n"
     ]
    },
    {
     "data": {
      "text/plain": [
       "<AxesSubplot:>"
      ]
     },
     "execution_count": 46,
     "metadata": {},
     "output_type": "execute_result"
    },
    {
     "data": {
      "image/png": "[encoded data removed]",
      "text/plain": [
       "<Figure size 432x288 with 1 Axes>"
      ]
     },
     "metadata": {
      "needs_background": "light"
     },
     "output_type": "display_data"
    },
    {
     "data": {
      "image/png": "[encoded data removed]",
      "text/plain": [
       "<Figure size 432x288 with 1 Axes>"
      ]
     },
     "metadata": {
      "needs_background": "light"
     },
     "output_type": "display_data"
    }
   ],
   "source": [
    "p1 = pd.DataFrame(frequent_itemsets_apriori)\n",
    "p1.plot(kind=\"bar\")\n",
    "print('-'*50)\n",
    "p2 = pd.DataFrame(rules_apriori)\n",
    "p2.plot(kind=\"bar\")"
   ]
  },
  {
   "cell_type": "code",
   "execution_count": 47,
   "id": "26890915",
   "metadata": {},
   "outputs": [
    {
     "name": "stdout",
     "output_type": "stream",
     "text": [
      "[[False False False ... False False False]\n",
      " [ True False  True ...  True  True False]\n",
      " [ True False  True ...  True False False]\n",
      " ...\n",
      " [False False False ... False False False]\n",
      " [False False False ... False False False]\n",
      " [False False False ... False False False]]\n",
      "--------------------------------------------------\n",
      "frequent_itemsets: \n",
      "    support itemsets\n",
      "0  0.00501      (r)\n",
      "1  0.00501      (n)\n",
      "2  0.00501      (e)\n",
      "3  0.00501      (t)\n",
      "4  0.00501   (e, r)\n",
      "--------------------------------------------------\n",
      "rules: \n",
      "   antecedents consequents  antecedent support  consequent support  support  \\\n",
      "0         (e)         (r)             0.00501             0.00501  0.00501   \n",
      "1         (r)         (e)             0.00501             0.00501  0.00501   \n",
      "\n",
      "   confidence   lift  leverage  conviction  \n",
      "0         1.0  199.6  0.004985         inf  \n",
      "1         1.0  199.6  0.004985         inf  \n"
     ]
    }
   ],
   "source": [
    "# 2- fpgrowth association_rule algorithm :\n",
    "\n",
    "#deal with Transaction\n",
    "te = TransactionEncoder()\n",
    "#transform the Transaction data set to 2D array\n",
    "te_ary = te.fit(Dnominal).transform(Dnominal) \n",
    "print(te_ary)\n",
    "print('-'*50)\n",
    "#convert the array into DataFrame\n",
    "dd = pd.DataFrame(te_ary, columns=te.columns_)\n",
    "#get the frequent itemset\n",
    "frequent_itemsets_fpgrowth = fpgrowth(dd, min_support=0.005, use_colnames=True)\n",
    "#get the association_rules from frequent itemset\n",
    "rules_fpgrowth = association_rules(frequent_itemsets_fpgrowth, metric=\"lift\", min_threshold=1.2)\n",
    "print(\"frequent_itemsets: \\n\",frequent_itemsets_fpgrowth)\n",
    "print('-'*50)\n",
    "print(\"rules: \\n\",rules_fpgrowth)"
   ]
  },
  {
   "cell_type": "code",
   "execution_count": 48,
   "id": "bfbf1273",
   "metadata": {},
   "outputs": [
    {
     "data": {
      "text/plain": [
       "<AxesSubplot:>"
      ]
     },
     "execution_count": 48,
     "metadata": {},
     "output_type": "execute_result"
    },
    {
     "data": {
      "image/png": "[encoded data removed]",
      "text/plain": [
       "<Figure size 432x288 with 1 Axes>"
      ]
     },
     "metadata": {
      "needs_background": "light"
     },
     "output_type": "display_data"
    },
    {
     "data": {
      "image/png": "[encoded data removed]",
      "text/plain": [
       "<Figure size 432x288 with 1 Axes>"
      ]
     },
     "metadata": {
      "needs_background": "light"
     },
     "output_type": "display_data"
    }
   ],
   "source": [
    "#comparing :\n",
    "p1 = pd.DataFrame(frequent_itemsets_fpgrowth)\n",
    "p1.plot(kind=\"bar\")  #run in interactive window to show the diagrame\n",
    "p2 = pd.DataFrame(rules_fpgrowth)\n",
    "p2.plot(kind=\"bar\")  #run in interactive window to show the diagrame"
   ]
  },
  {
   "cell_type": "code",
   "execution_count": 49,
   "id": "c0c630b5",
   "metadata": {},
   "outputs": [],
   "source": [
    "# I hope you like it, thank you"
   ]
  }
 ],
 "metadata": {
  "kernelspec": {
   "display_name": "Python 3 (ipykernel)",
   "language": "python",
   "name": "python3"
  },
  "language_info": {
   "codemirror_mode": {
    "name": "ipython",
    "version": 3
   },
   "file_extension": ".py",
   "mimetype": "text/x-python",
   "name": "python",
   "nbconvert_exporter": "python",
   "pygments_lexer": "ipython3",
   "version": "3.9.7"
  }
 },
 "nbformat": 4,
 "nbformat_minor": 5
}
